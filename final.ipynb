{
 "cells": [
  {
   "cell_type": "code",
   "execution_count": 9,
   "metadata": {},
   "outputs": [
    {
     "name": "stderr",
     "output_type": "stream",
     "text": [
      "C:\\Users\\12291\\AppData\\Local\\Temp\\ipykernel_24180\\917319400.py:6: MatplotlibDeprecationWarning: The seaborn styles shipped by Matplotlib are deprecated since 3.6, as they no longer correspond to the styles shipped by seaborn. However, they will remain available as 'seaborn-v0_8-<style>'. Alternatively, directly use the seaborn API instead.\n",
      "  plt.style.use('seaborn')\n"
     ]
    }
   ],
   "source": [
    "import random\n",
    "import time\n",
    "import graphviz\n",
    "import matplotlib.pyplot as plt\n",
    "import pandas as pd\n",
    "plt.style.use('seaborn')"
   ]
  },
  {
   "cell_type": "code",
   "execution_count": 2,
   "metadata": {},
   "outputs": [],
   "source": [
    "class Node:\n",
    "    def __init__(self, key=None, next=None):\n",
    "        self.key = key\n",
    "        self.next = next\n",
    "\n",
    "\n",
    "class BinaryTree:\n",
    "    def __init__(self):\n",
    "        self._head = Node()\n",
    "        self._tail = self._head\n",
    "        self._size = 0\n",
    "\n",
    "    def push(self, key):\n",
    "        node = Node(key)\n",
    "        self._tail.next = node\n",
    "        self._tail = self._tail.next\n",
    "        self._size += 1\n",
    "        return self._size - 1, node\n",
    "\n",
    "    def pop(self):\n",
    "        if self._size == 0:\n",
    "            return None\n",
    "        cur = self.get_nth(self._size - 2)\n",
    "        self._tail = cur\n",
    "        self._tail.next = None\n",
    "        self._size -= 1\n",
    "\n",
    "    def get_nth(self, i):\n",
    "        cur = self._head\n",
    "        for _ in range(i + 1):\n",
    "            cur = cur.next\n",
    "        return cur\n",
    "\n",
    "    def parent(self, i):\n",
    "        parent_idx = (i - 1) // 2\n",
    "        if parent_idx < 0:\n",
    "            return -1, None\n",
    "        return parent_idx, self.get_nth(parent_idx)\n",
    "\n",
    "    def left_child(self, i):\n",
    "        left_child_idx = i * 2 + 1\n",
    "        if left_child_idx >= self._size:\n",
    "            return -1, None\n",
    "        return left_child_idx, self.get_nth(left_child_idx)\n",
    "\n",
    "    def right_child(self, i):\n",
    "        right_child_idx = i * 2 + 2\n",
    "        if right_child_idx >= self._size:\n",
    "            return -1, None\n",
    "        return right_child_idx, self.get_nth(right_child_idx)\n",
    "\n",
    "    def size(self):\n",
    "        return self._size"
   ]
  },
  {
   "cell_type": "code",
   "execution_count": 3,
   "metadata": {},
   "outputs": [],
   "source": [
    "class MinPriorityQueue:\n",
    "    def __init__(self):\n",
    "        self.tree = BinaryTree()\n",
    "\n",
    "    def insert(self, key):\n",
    "        cur_idx, cur_node = self.tree.push(key)\n",
    "        parent_idx, parent_node = self.tree.parent(cur_idx)\n",
    "        while parent_idx != -1:\n",
    "            if parent_node.key > cur_node.key:\n",
    "                parent_node.key, cur_node.key = cur_node.key, parent_node.key\n",
    "                cur_idx, cur_node = parent_idx, parent_node\n",
    "                parent_idx, parent_node = self.tree.parent(cur_idx)\n",
    "            else:\n",
    "                break\n",
    "\n",
    "    def delMin(self):\n",
    "        if self.tree.size() == 0:\n",
    "            return None\n",
    "\n",
    "        min_key = self.tree.get_nth(0).key\n",
    "        self.tree.get_nth(0).key = self.tree.get_nth(self.tree.size() - 1).key\n",
    "        self.tree.pop()\n",
    "        cur_idx, cur_node = 0, self.tree.get_nth(0)\n",
    "        while True:\n",
    "            left_child_idx, left_child_node = self.tree.left_child(cur_idx)\n",
    "            right_child_idx, right_child_node = self.tree.right_child(cur_idx)\n",
    "            if left_child_idx == -1 and right_child_idx == -1:\n",
    "                break\n",
    "\n",
    "            target_idx, target_node = left_child_idx, left_child_node\n",
    "            if right_child_idx != -1 and right_child_node.key < target_node.key:\n",
    "                target_idx, target_node = right_child_idx, right_child_node\n",
    "\n",
    "            if cur_node.key > target_node.key:\n",
    "                cur_node.key, target_node.key = target_node.key, cur_node.key\n",
    "                cur_idx, cur_node = target_idx, target_node\n",
    "            else:\n",
    "                break\n",
    "\n",
    "        return min_key\n",
    "\n",
    "    def render(self, filename):\n",
    "        dot = graphviz.Digraph(filename)\n",
    "        dot.format = 'png'\n",
    "        for idx in range(self.tree.size()):\n",
    "            dot.node(str(idx), str(self.tree.get_nth(idx).key))\n",
    "        for idx in range(self.tree.size()):\n",
    "            left_child_idx, _ = self.tree.left_child(idx)\n",
    "            right_child_idx, _ = self.tree.right_child(idx)\n",
    "            if left_child_idx != -1:\n",
    "                dot.edge(str(idx), str(left_child_idx))\n",
    "            if right_child_idx != -1:\n",
    "                dot.edge(str(idx), str(right_child_idx))\n",
    "        dot.render(directory='.')"
   ]
  },
  {
   "cell_type": "code",
   "execution_count": 10,
   "metadata": {},
   "outputs": [
    {
     "name": "stdout",
     "output_type": "stream",
     "text": [
      "n = 100, insert time = 0.0, delMin time = 0.0009999275207519531\n",
      "n = 1000, insert time = 0.007006406784057617, delMin time = 0.05099058151245117\n",
      "n = 10000, insert time = 0.7227680683135986, delMin time = 4.8962297439575195\n"
     ]
    }
   ],
   "source": [
    "insert_time = []\n",
    "delMin_time = []\n",
    "for n in [100, 1000, 10000]:\n",
    "    pq = MinPriorityQueue()\n",
    "    keys = list(range(n))\n",
    "    random.shuffle(keys)\n",
    "    t0 = time.time()\n",
    "\n",
    "    for i in keys:\n",
    "        pq.insert(i)\n",
    "\n",
    "    t1 = time.time()\n",
    "\n",
    "    values = []\n",
    "    \n",
    "    for _ in range(n):\n",
    "        v = pq.delMin()\n",
    "        values.append(v)\n",
    "\n",
    "    t2 = time.time()\n",
    "    assert values == list(range(n))\n",
    "\n",
    "    insert_time.append(t1 - t0)\n",
    "    delMin_time.append(t2 - t1)\n",
    "\n",
    "    print(\"n = {}, insert time = {}, delMin time = {}\".format(n, t1 - t0, t2 - t1))\n",
    "\n",
    "pq1 = MinPriorityQueue()\n",
    "keys = list(range(20))\n",
    "random.shuffle(keys)\n",
    "for i in keys:\n",
    "    pq1.insert(i)\n",
    "pq1.render(\"result\")"
   ]
  },
  {
   "cell_type": "code",
   "execution_count": 11,
   "metadata": {},
   "outputs": [
    {
     "data": {
      "text/plain": [
       "Text(0.5, 1.0, 'Insert time')"
      ]
     },
     "execution_count": 11,
     "metadata": {},
     "output_type": "execute_result"
    },
    {
     "data": {
      "image/png": "[encoded data removed]",
      "text/plain": [
       "<Figure size 800x550 with 1 Axes>"
      ]
     },
     "metadata": {},
     "output_type": "display_data"
    }
   ],
   "source": [
    "time = pd.DataFrame({\"Time\" : insert_time})\n",
    "time.plot.bar().set_title('Insert time')"
   ]
  },
  {
   "cell_type": "code",
   "execution_count": 12,
   "metadata": {},
   "outputs": [
    {
     "data": {
      "text/plain": [
       "Text(0.5, 1.0, 'delMin time')"
      ]
     },
     "execution_count": 12,
     "metadata": {},
     "output_type": "execute_result"
    },
    {
     "data": {
      "image/png": "[encoded data removed]",
      "text/plain": [
       "<Figure size 800x550 with 1 Axes>"
      ]
     },
     "metadata": {},
     "output_type": "display_data"
    }
   ],
   "source": [
    "time = pd.DataFrame({\"Time\" : delMin_time})\n",
    "time.plot.bar().set_title('delMin time')"
   ]
  },
  {
   "cell_type": "code",
   "execution_count": null,
   "metadata": {},
   "outputs": [],
   "source": []
  }
 ],
 "metadata": {
  "kernelspec": {
   "display_name": "ds",
   "language": "python",
   "name": "python3"
  },
  "language_info": {
   "codemirror_mode": {
    "name": "ipython",
    "version": 3
   },
   "file_extension": ".py",
   "mimetype": "text/x-python",
   "name": "python",
   "nbconvert_exporter": "python",
   "pygments_lexer": "ipython3",
   "version": "3.10.8"
  },
  "orig_nbformat": 4,
  "vscode": {
   "interpreter": {
    "hash": "35408d8e9827249a7affc2adc00a86cb2a924921ab9cfff35dd55c96b7335e2d"
   }
  }
 },
 "nbformat": 4,
 "nbformat_minor": 2
}
